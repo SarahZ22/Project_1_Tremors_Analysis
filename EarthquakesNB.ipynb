{
 "cells": [
  {
   "cell_type": "code",
   "execution_count": null,
   "metadata": {},
   "outputs": [],
   "source": [
    "import json\n",
    "import pandas as pd\n",
    "import requests\n",
    "\n",
    "baseurl = \"https://earthquake.usgs.gov/fdsnws/event/1/query?format=geojson\"\n",
    "#we split the pulls up by month due to pulling limits\n",
    "janurl = \"&starttime=2019-01-01&endtime=2019-01-31\"\n",
    "feburl = \"&starttime=2019-02-01&endtime=2019-02-28\"\n",
    "marurl = \"&starttime=2019-03-01&endtime=2019-03-31\"\n",
    "aprurl = \"&starttime=2019-04-01&endtime=2019-04-30\"\n",
    "mayurl = \"&starttime=2019-05-01&endtime=2019-05-31\"\n",
    "junurl = \"&starttime=2019-06-01&endtime=2019-06-30\"\n",
    "julurl = \"&starttime=2019-07-01&endtime=2019-07-31\"\n",
    "augurl = \"&starttime=2019-08-01&endtime=2019-08-31\"\n",
    "sepurl = \"&starttime=2019-09-01&endtime=2019-09-30\"\n",
    "octurl = \"&starttime=2019-10-01&endtime=2019-10-31\"\n",
    "novurl = \"&starttime=2019-11-01&endtime=2019-11-30\"\n",
    "decurl = \"&starttime=2019-12-01&endtime=2019-12-31\"\n",
    "\n",
    "monthurl = [janurl, feburl, marurl, aprurl, mayurl, junurl, julurl, augurl, sepurl, octurl, novurl, decurl]\n",
    "allmonths = []\n",
    "\n",
    "for urls in monthurl:\n",
    "    url=baseurl+janurl\n",
    "    \n",
    "    response = requests.get(url)\n",
    "    data = response.json()\n",
    "\n"
   ]
  },
  {
   "cell_type": "code",
   "execution_count": null,
   "metadata": {},
   "outputs": [],
   "source": []
  }
 ],
 "metadata": {
  "kernelspec": {
   "display_name": "Python 3",
   "language": "python",
   "name": "python3"
  },
  "language_info": {
   "codemirror_mode": {
    "name": "ipython",
    "version": 3
   },
   "file_extension": ".py",
   "mimetype": "text/x-python",
   "name": "python",
   "nbconvert_exporter": "python",
   "pygments_lexer": "ipython3",
   "version": "3.7.6"
  }
 },
 "nbformat": 4,
 "nbformat_minor": 4
}
