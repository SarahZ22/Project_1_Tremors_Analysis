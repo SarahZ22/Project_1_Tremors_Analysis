{
 "cells": [
  {
   "cell_type": "code",
   "execution_count": 5,
   "metadata": {
    "scrolled": false
   },
   "outputs": [
    {
     "ename": "AttributeError",
     "evalue": "'dict' object has no attribute 'head'",
     "output_type": "error",
     "traceback": [
      "\u001b[1;31m---------------------------------------------------------------------------\u001b[0m",
      "\u001b[1;31mAttributeError\u001b[0m                            Traceback (most recent call last)",
      "\u001b[1;32m<ipython-input-5-5e858c761899>\u001b[0m in \u001b[0;36m<module>\u001b[1;34m\u001b[0m\n\u001b[0;32m     27\u001b[0m \u001b[1;31m# allmonths.append(response[''])\u001b[0m\u001b[1;33m\u001b[0m\u001b[1;33m\u001b[0m\u001b[1;33m\u001b[0m\u001b[0m\n\u001b[0;32m     28\u001b[0m \u001b[1;33m\u001b[0m\u001b[0m\n\u001b[1;32m---> 29\u001b[1;33m \u001b[0mresponse\u001b[0m\u001b[1;33m.\u001b[0m\u001b[0mhead\u001b[0m\u001b[1;33m(\u001b[0m\u001b[1;33m)\u001b[0m\u001b[1;33m\u001b[0m\u001b[1;33m\u001b[0m\u001b[0m\n\u001b[0m",
      "\u001b[1;31mAttributeError\u001b[0m: 'dict' object has no attribute 'head'"
     ]
    }
   ],
   "source": [
    "import json\n",
    "import pandas as pd\n",
    "import requests\n",
    "\n",
    "baseurl = \"https://earthquake.usgs.gov/fdsnws/event/1/query?format=geojson\"\n",
    "#we split the pulls up by month due to pulling limits\n",
    "janurl = \"&starttime=2019-01-01&endtime=2019-01-31\"\n",
    "# feburl = \"&starttime=2019-02-01&endtime=2019-02-28\"\n",
    "# marurl = \"&starttime=2019-03-01&endtime=2019-03-31\"\n",
    "# aprurl = \"&starttime=2019-04-01&endtime=2019-04-30\"\n",
    "# mayurl = \"&starttime=2019-05-01&endtime=2019-05-31\"\n",
    "# junurl = \"&starttime=2019-06-01&endtime=2019-06-30\"\n",
    "# julurl = \"&starttime=2019-07-01&endtime=2019-07-31\"\n",
    "# augurl = \"&starttime=2019-08-01&endtime=2019-08-31\"\n",
    "# sepurl = \"&starttime=2019-09-01&endtime=2019-09-30\"\n",
    "# octurl = \"&starttime=2019-10-01&endtime=2019-10-31\"\n",
    "# novurl = \"&starttime=2019-11-01&endtime=2019-11-30\"\n",
    "# decurl = \"&starttime=2019-12-01&endtime=2019-12-31\"\n",
    "\n",
    "# monthurl = [janurl, feburl, marurl, aprurl, mayurl, junurl, julurl, augurl, sepurl, octurl, novurl, decurl]\n",
    "# allmonths = []\n",
    "\n",
    "# for urls in monthurl:\n",
    "url=baseurl+janurl\n",
    "    \n",
    "response = requests.get(url).json()\n",
    "# allmonths.append(response[''])\n",
    "\n",
    "response"
   ]
  },
  {
   "cell_type": "code",
   "execution_count": 14,
   "metadata": {},
   "outputs": [
    {
     "name": "stdout",
     "output_type": "stream",
     "text": [
      "[None, None, None, None, None, None, None, None, None, None, None, None]\n"
     ]
    }
   ],
   "source": [
    "monthurl = ['janurl', 'feburl', 'marurl','aprurl', 'mayurl', 'junurl', 'julurl', 'augurl', 'sepurl', 'octurl', 'novurl', 'decurl']\n",
    "\n",
    "\n",
    "baseurl = \"https://earthquake.usgs.gov/fdsnws/event/1/query?format=geojson\"\n",
    "#we split the pulls up by month due to pulling limits\n",
    "janurl = \"&starttime=2019-01-01&endtime=2019-01-31\"\n",
    "feburl = \"&starttime=2019-02-01&endtime=2019-02-28\"\n",
    "marurl = \"&starttime=2019-03-01&endtime=2019-03-31\"\n",
    "aprurl = \"&starttime=2019-04-01&endtime=2019-04-30\"\n",
    "mayurl = \"&starttime=2019-05-01&endtime=2019-05-31\"\n",
    "junurl = \"&starttime=2019-06-01&endtime=2019-06-30\"\n",
    "julurl = \"&starttime=2019-07-01&endtime=2019-07-31\"\n",
    "augurl = \"&starttime=2019-08-01&endtime=2019-08-31\"\n",
    "sepurl = \"&starttime=2019-09-01&endtime=2019-09-30\"\n",
    "octurl = \"&starttime=2019-10-01&endtime=2019-10-31\"\n",
    "novurl = \"&starttime=2019-11-01&endtime=2019-11-30\"\n",
    "decurl = \"&starttime=2019-12-01&endtime=2019-12-31\"\n",
    "\n",
    "\n",
    "# # allmonths = []\n",
    "# felt=[]\n",
    "# # mag=[]\n",
    "# # depth=[]\n",
    "# # latitude=[]\n",
    "# # longitude=[]\n",
    "# # alert=[]\n",
    "# # sig=[]\n",
    "# # type=[]\n",
    "\n",
    "# for urls in monthurl:\n",
    "#     url=baseurl+urls\n",
    "    \n",
    "#     response = requests.get(url)\n",
    "# #     response_json=response.json()\n",
    "#     felt.append(response_json['features'][0]['properties']['felt'])\n",
    "\n",
    "# print(felt)"
   ]
  },
  {
   "cell_type": "code",
   "execution_count": null,
   "metadata": {},
   "outputs": [],
   "source": []
  }
 ],
 "metadata": {
  "kernelspec": {
   "display_name": "Python 3",
   "language": "python",
   "name": "python3"
  },
  "language_info": {
   "codemirror_mode": {
    "name": "ipython",
    "version": 3
   },
   "file_extension": ".py",
   "mimetype": "text/x-python",
   "name": "python",
   "nbconvert_exporter": "python",
   "pygments_lexer": "ipython3",
   "version": "3.7.6"
  }
 },
 "nbformat": 4,
 "nbformat_minor": 4
}
